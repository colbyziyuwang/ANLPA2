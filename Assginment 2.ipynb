{
 "cells": [
  {
   "cell_type": "markdown",
   "metadata": {},
   "source": [
    "# LSTM Using Pytorch"
   ]
  },
  {
   "cell_type": "markdown",
   "metadata": {},
   "source": [
    "# Parent Folder\n",
    "/Users/colbywang/Google Drive/我的云端硬盘/Advanced NLP/Assignments/data files/organized"
   ]
  },
  {
   "cell_type": "code",
   "execution_count": 1,
   "metadata": {},
   "outputs": [
    {
     "name": "stdout",
     "output_type": "stream",
     "text": [
      "Output Shape: torch.Size([16, 1])\n"
     ]
    }
   ],
   "source": [
    "import torch\n",
    "import torch.nn as nn\n",
    "\n",
    "device = torch.device(\"cuda\" if torch.cuda.is_available() else \"cpu\")\n",
    "\n",
    "class StockLSTM(nn.Module):\n",
    "    def __init__(self, input_size, hidden_size, num_layers=1):\n",
    "        super(StockLSTM, self).__init__()\n",
    "        self.hidden_size = hidden_size\n",
    "        self.num_layers = num_layers\n",
    "\n",
    "        # LSTM layers\n",
    "        self.lstm = nn.LSTM(input_size, hidden_size, num_layers, batch_first=True)\n",
    "        \n",
    "        # Fully connected layer to predict stock percentage change\n",
    "        self.fc = nn.Linear(hidden_size, 1)\n",
    "\n",
    "    def forward(self, x, hidden):\n",
    "        # LSTM forward pass\n",
    "        output, hidden = self.lstm(x, hidden)  \n",
    "        \n",
    "        # Take the last output step for prediction\n",
    "        output = self.fc(output[:, -1, :])  \n",
    "        \n",
    "        return output, hidden\n",
    "\n",
    "    def init_hidden(self, batch_size):\n",
    "        # Initialize hidden and cell states with zeros\n",
    "        h_0 = torch.zeros(self.num_layers, batch_size, self.hidden_size).to(device)\n",
    "        c_0 = torch.zeros(self.num_layers, batch_size, self.hidden_size).to(device)\n",
    "        return (h_0, c_0)\n",
    "\n",
    "# Example Usage\n",
    "input_size = 1 + 3 + 768  # Example: Stock price, 3 economic indicators, context vector\n",
    "hidden_size = 64\n",
    "sequence_length = 7  # 7 days of past data as input\n",
    "batch_size = 16\n",
    "\n",
    "model = StockLSTM(input_size, hidden_size).to(device)\n",
    "hidden = model.init_hidden(batch_size)\n",
    "\n",
    "# Example input tensor (batch_size, sequence_length, input_size)\n",
    "sample_input = torch.randn(batch_size, sequence_length, input_size).to(device)\n",
    "output, hidden = model(sample_input, hidden)\n",
    "\n",
    "print(\"Output Shape:\", output.shape)  # Expected: (batch_size, 1)\n"
   ]
  },
  {
   "cell_type": "markdown",
   "metadata": {},
   "source": [
    "# Setting Up FinBERT"
   ]
  },
  {
   "cell_type": "code",
   "execution_count": 3,
   "metadata": {},
   "outputs": [
    {
     "name": "stdout",
     "output_type": "stream",
     "text": [
      "Averaged FinBERT Sentence Embedding Shape: (768,)\n"
     ]
    }
   ],
   "source": [
    "from transformers import AutoTokenizer, AutoModel\n",
    "import torch\n",
    "import numpy as np\n",
    "\n",
    "# Load FinBERT model and tokenizer\n",
    "model_name = \"yiyanghkust/finbert-pretrain\"\n",
    "tokenizer = AutoTokenizer.from_pretrained(model_name)\n",
    "model = AutoModel.from_pretrained(model_name)\n",
    "\n",
    "def get_average_embedding(sentences):\n",
    "    \"\"\"Compute and average sentence embeddings using FinBERT.\"\"\"\n",
    "    embeddings = []\n",
    "\n",
    "    for sentence in sentences:\n",
    "        inputs = tokenizer(sentence, return_tensors=\"pt\", padding=True, truncation=True, max_length=512)\n",
    "        \n",
    "        # Forward pass to get hidden states\n",
    "        with torch.no_grad():\n",
    "            outputs = model(**inputs)\n",
    "\n",
    "        # Extract [CLS] token embedding\n",
    "        cls_embedding = outputs.last_hidden_state[:, 0, :].squeeze().numpy()\n",
    "        embeddings.append(cls_embedding)\n",
    "\n",
    "    # Convert list to NumPy array and compute the mean embedding\n",
    "    avg_embedding = np.mean(np.array(embeddings), axis=0)\n",
    "    \n",
    "    return avg_embedding\n",
    "\n",
    "# Example usage: multiple sentences\n",
    "sentences = [\n",
    "    \"The company's revenue increased by 10% last quarter.\",\n",
    "    \"Market trends indicate strong growth in the AI sector.\",\n",
    "    \"Risk factors include inflation and supply chain disruptions.\",\n",
    "]\n",
    "\n",
    "# Compute average embedding\n",
    "avg_embedding = get_average_embedding(sentences)\n",
    "\n",
    "print(\"Averaged FinBERT Sentence Embedding Shape:\", avg_embedding.shape)  # Expected: (768,)\n"
   ]
  },
  {
   "cell_type": "markdown",
   "metadata": {},
   "source": [
    "# RAG Pipeline"
   ]
  },
  {
   "cell_type": "code",
   "execution_count": null,
   "metadata": {},
   "outputs": [
    {
     "name": "stdout",
     "output_type": "stream",
     "text": [
      "\n",
      "🔹 Query: What are the top 3-5 material risk factors highlighted in this 10-K?\n",
      "\n",
      "🔹 RAG Response:\n",
      "Interest rate sensitivity is a risk factor due to the debt instruments and investment securities. There's no mention of other specific material risk factors in the given text.\n"
     ]
    }
   ],
   "source": [
    "from llama_index.core import (\n",
    "    SimpleDirectoryReader,\n",
    "    VectorStoreIndex,\n",
    "    Settings\n",
    ")\n",
    "from llama_index.llms.ollama import Ollama\n",
    "from llama_index.embeddings.huggingface import HuggingFaceEmbedding\n",
    "from llama_index.core.query_engine import RetrieverQueryEngine\n",
    "from llama_index.packs.sentence_window_retriever import SentenceWindowRetrieverPack as SentenceWindowRetriever\n",
    "from llama_index.core.node_parser import SentenceWindowNodeParser\n",
    "\n",
    "# ✅ Load the LLM Model using Llama2\n",
    "llm = Ollama(\n",
    "    model=\"llama3.2\",\n",
    "    context_window=4096,\n",
    "    request_timeout=60.0,\n",
    "    temperature=0.7\n",
    ")\n",
    "\n",
    "# ✅ Load the embedding model\n",
    "embedding_model = HuggingFaceEmbedding(\n",
    "    model_name=\"sentence-transformers/all-MiniLM-L6-v2\"\n",
    ")\n",
    "\n",
    "# ✅ Configure Settings\n",
    "Settings.llm = llm\n",
    "Settings.embed_model = embedding_model\n",
    "\n",
    "# ✅ Load documents\n",
    "# file_path = \"/content/drive/MyDrive/Advanced NLP/Assignments/data files/organized/10-K/0000001800/2001_0000912057-01-006039.txt\"\n",
    "file_path = \"2001_0000912057-01-006039.txt\"\n",
    "docs = SimpleDirectoryReader(input_files=[file_path]).load_data()\n",
    "\n",
    "# ✅ Create Node Parser with Sentence Window\n",
    "node_parser = SentenceWindowNodeParser.from_defaults(\n",
    "    window_size=1,\n",
    "    window_metadata_key=\"window\",\n",
    "    original_text_metadata_key=\"original_text\"\n",
    ")\n",
    "\n",
    "# ✅ Process nodes from documents\n",
    "nodes = node_parser.get_nodes_from_documents(docs)\n",
    "\n",
    "# ✅ Create Vector Store Index\n",
    "index = VectorStoreIndex(nodes)\n",
    "\n",
    "# ✅ Create Retriever\n",
    "retriever = index.as_retriever(\n",
    "    similarity_top_k=3\n",
    ")\n",
    "\n",
    "# ✅ Create Query Engine\n",
    "query_engine = RetrieverQueryEngine(retriever=retriever)\n",
    "\n",
    "# ✅ Function to run queries\n",
    "def run_rag_query(query_text):\n",
    "    response = query_engine.query(query_text)\n",
    "    print(\"\\n🔹 Query:\", query_text)\n",
    "    print(\"\\n🔹 RAG Response:\")\n",
    "    print(response)\n",
    "    return response\n",
    "\n",
    "# ✅ Example usage\n",
    "query = \"What are the top 3-5 material risk factors highlighted in this 10-K?\"\n",
    "response = run_rag_query(query)\n",
    "\n"
   ]
  }
 ],
 "metadata": {
  "kernelspec": {
   "display_name": "rag",
   "language": "python",
   "name": "python3"
  },
  "language_info": {
   "codemirror_mode": {
    "name": "ipython",
    "version": 3
   },
   "file_extension": ".py",
   "mimetype": "text/x-python",
   "name": "python",
   "nbconvert_exporter": "python",
   "pygments_lexer": "ipython3",
   "version": "3.11.1"
  }
 },
 "nbformat": 4,
 "nbformat_minor": 2
}
